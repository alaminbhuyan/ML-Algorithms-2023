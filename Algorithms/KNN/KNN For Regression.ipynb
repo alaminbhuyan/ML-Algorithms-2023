{
 "cells": [
  {
   "cell_type": "code",
   "execution_count": 1,
   "id": "2db89441",
   "metadata": {},
   "outputs": [],
   "source": [
    "import operator\n",
    "import collections\n",
    "\n",
    "import numpy as np\n",
    "import pandas as pd\n",
    "import matplotlib\n",
    "import matplotlib.pyplot as plt\n",
    "\n",
    "import sklearn\n",
    "from sklearn.model_selection import train_test_split\n",
    "from sklearn.metrics import accuracy_score, confusion_matrix\n",
    "from sklearn.preprocessing import StandardScaler, LabelEncoder\n",
    "from sklearn.neighbors import KNeighborsClassifier, KNeighborsRegressor"
   ]
  },
  {
   "cell_type": "code",
   "execution_count": 2,
   "id": "0f2527e0",
   "metadata": {},
   "outputs": [
    {
     "name": "stdout",
     "output_type": "stream",
     "text": [
      "numpy version:  1.24.1\n",
      "pandas version:  1.5.2\n",
      "sklearn version:  1.2.1\n",
      "matplotlib version:  3.6.3\n"
     ]
    }
   ],
   "source": [
    "print(\"numpy version: \", np.__version__)\n",
    "print(\"pandas version: \", pd.__version__)\n",
    "print(\"sklearn version: \", sklearn.__version__)\n",
    "print(\"matplotlib version: \", matplotlib.__version__)\n",
    "\n",
    "\n",
    "# numpy version:  1.24.1\n",
    "# pandas version:  1.5.2\n",
    "# sklearn version:  1.2.0\n",
    "# matplotlib version:  3.6.3"
   ]
  },
  {
   "cell_type": "code",
   "execution_count": 3,
   "id": "00c8058c",
   "metadata": {},
   "outputs": [],
   "source": [
    "# !pip install openpyxl"
   ]
  },
  {
   "cell_type": "markdown",
   "id": "235b5c5b",
   "metadata": {},
   "source": [
    "## Let's create our KNN class"
   ]
  },
  {
   "cell_type": "code",
   "execution_count": 4,
   "id": "6a343422",
   "metadata": {},
   "outputs": [],
   "source": [
    "class KnnRegressor:\n",
    "    def __init__(self, n_neighbors=5, distance_metric=\"euclidean\"):\n",
    "        self.k = n_neighbors\n",
    "        self.metric = distance_metric\n",
    "    \n",
    "    def fit(self, X, y):\n",
    "        self.X = X\n",
    "        self.y = y\n",
    "    \n",
    "    \n",
    "    def predict(self, X_test):\n",
    "        labels = []\n",
    "        \n",
    "        for i in X_test:\n",
    "            labels.append(self.__singlepoint_predict(i))\n",
    "        \n",
    "        # we just return the mean value\n",
    "        return np.round(np.mean(labels), 3)\n",
    "    \n",
    "    def __singlepoint_predict(self, p):\n",
    "        all_distance = {}\n",
    "        counter = 0\n",
    "        \n",
    "        if self.metric == \"euclidean\":\n",
    "            \n",
    "            for i in self.X:\n",
    "                distance = 0\n",
    "                for j in zip(p, i):\n",
    "                    distance += (j[0] - j[1])**2\n",
    "                all_distance[counter] = np.sqrt(distance)\n",
    "                counter += 1\n",
    "                \n",
    "        elif self.metric == \"manhattan\":\n",
    "            \n",
    "            for i in self.X:\n",
    "                distance = 0\n",
    "                for j in zip(p, i):\n",
    "                    distance += abs(j[0] - j[1])\n",
    "                all_distance[counter] = distance\n",
    "                counter += 1\n",
    "                \n",
    "        label = self.__classify_label(all_distance)\n",
    "        \n",
    "        return label\n",
    "\n",
    "    def __classify_label(self, distances):\n",
    "        label = []\n",
    "        distances = sorted(distances.items(), key=lambda item : item[1])\n",
    "        \n",
    "        for i in distances[:self.k]:\n",
    "            label.append(self.y.values[i[0]])\n",
    "        \n",
    "        return collections.Counter(label).most_common(1)[0][0]"
   ]
  },
  {
   "cell_type": "code",
   "execution_count": 5,
   "id": "f5ccfdb4",
   "metadata": {},
   "outputs": [
    {
     "data": {
      "text/html": [
       "<div>\n",
       "<style scoped>\n",
       "    .dataframe tbody tr th:only-of-type {\n",
       "        vertical-align: middle;\n",
       "    }\n",
       "\n",
       "    .dataframe tbody tr th {\n",
       "        vertical-align: top;\n",
       "    }\n",
       "\n",
       "    .dataframe thead th {\n",
       "        text-align: right;\n",
       "    }\n",
       "</style>\n",
       "<table border=\"1\" class=\"dataframe\">\n",
       "  <thead>\n",
       "    <tr style=\"text-align: right;\">\n",
       "      <th></th>\n",
       "      <th>speed</th>\n",
       "      <th>car_age</th>\n",
       "      <th>experience</th>\n",
       "      <th>risk</th>\n",
       "    </tr>\n",
       "  </thead>\n",
       "  <tbody>\n",
       "    <tr>\n",
       "      <th>0</th>\n",
       "      <td>200</td>\n",
       "      <td>15</td>\n",
       "      <td>5.0</td>\n",
       "      <td>85</td>\n",
       "    </tr>\n",
       "    <tr>\n",
       "      <th>1</th>\n",
       "      <td>90</td>\n",
       "      <td>17</td>\n",
       "      <td>13.0</td>\n",
       "      <td>20</td>\n",
       "    </tr>\n",
       "    <tr>\n",
       "      <th>2</th>\n",
       "      <td>165</td>\n",
       "      <td>12</td>\n",
       "      <td>4.0</td>\n",
       "      <td>93</td>\n",
       "    </tr>\n",
       "    <tr>\n",
       "      <th>3</th>\n",
       "      <td>110</td>\n",
       "      <td>20</td>\n",
       "      <td>NaN</td>\n",
       "      <td>60</td>\n",
       "    </tr>\n",
       "    <tr>\n",
       "      <th>4</th>\n",
       "      <td>140</td>\n",
       "      <td>5</td>\n",
       "      <td>3.0</td>\n",
       "      <td>82</td>\n",
       "    </tr>\n",
       "    <tr>\n",
       "      <th>5</th>\n",
       "      <td>115</td>\n",
       "      <td>2</td>\n",
       "      <td>8.0</td>\n",
       "      <td>10</td>\n",
       "    </tr>\n",
       "  </tbody>\n",
       "</table>\n",
       "</div>"
      ],
      "text/plain": [
       "   speed  car_age  experience  risk\n",
       "0    200       15         5.0    85\n",
       "1     90       17        13.0    20\n",
       "2    165       12         4.0    93\n",
       "3    110       20         NaN    60\n",
       "4    140        5         3.0    82\n",
       "5    115        2         8.0    10"
      ]
     },
     "execution_count": 5,
     "metadata": {},
     "output_type": "execute_result"
    }
   ],
   "source": [
    "df = pd.read_excel(\"D:\\DATA SCIENCE ALL RESOURCE\\ANALYSIS & VISUALIZATION\\MachineLearning\\Linear_Regression_multiple_variable.xlsx\")\n",
    "\n",
    "df"
   ]
  },
  {
   "cell_type": "code",
   "execution_count": 6,
   "id": "6af0635e",
   "metadata": {},
   "outputs": [
    {
     "data": {
      "text/plain": [
       "speed         0\n",
       "car_age       0\n",
       "experience    1\n",
       "risk          0\n",
       "dtype: int64"
      ]
     },
     "execution_count": 6,
     "metadata": {},
     "output_type": "execute_result"
    }
   ],
   "source": [
    "df.isnull().sum()"
   ]
  },
  {
   "cell_type": "code",
   "execution_count": 7,
   "id": "dae04127",
   "metadata": {},
   "outputs": [],
   "source": [
    "df['experience'].fillna(value=df['experience'].mean(), inplace=True)"
   ]
  },
  {
   "cell_type": "code",
   "execution_count": 8,
   "id": "7f8451a7",
   "metadata": {},
   "outputs": [
    {
     "data": {
      "text/html": [
       "<div>\n",
       "<style scoped>\n",
       "    .dataframe tbody tr th:only-of-type {\n",
       "        vertical-align: middle;\n",
       "    }\n",
       "\n",
       "    .dataframe tbody tr th {\n",
       "        vertical-align: top;\n",
       "    }\n",
       "\n",
       "    .dataframe thead th {\n",
       "        text-align: right;\n",
       "    }\n",
       "</style>\n",
       "<table border=\"1\" class=\"dataframe\">\n",
       "  <thead>\n",
       "    <tr style=\"text-align: right;\">\n",
       "      <th></th>\n",
       "      <th>speed</th>\n",
       "      <th>car_age</th>\n",
       "      <th>experience</th>\n",
       "      <th>risk</th>\n",
       "    </tr>\n",
       "  </thead>\n",
       "  <tbody>\n",
       "    <tr>\n",
       "      <th>0</th>\n",
       "      <td>200</td>\n",
       "      <td>15</td>\n",
       "      <td>5.0</td>\n",
       "      <td>85</td>\n",
       "    </tr>\n",
       "    <tr>\n",
       "      <th>1</th>\n",
       "      <td>90</td>\n",
       "      <td>17</td>\n",
       "      <td>13.0</td>\n",
       "      <td>20</td>\n",
       "    </tr>\n",
       "    <tr>\n",
       "      <th>2</th>\n",
       "      <td>165</td>\n",
       "      <td>12</td>\n",
       "      <td>4.0</td>\n",
       "      <td>93</td>\n",
       "    </tr>\n",
       "    <tr>\n",
       "      <th>3</th>\n",
       "      <td>110</td>\n",
       "      <td>20</td>\n",
       "      <td>6.6</td>\n",
       "      <td>60</td>\n",
       "    </tr>\n",
       "    <tr>\n",
       "      <th>4</th>\n",
       "      <td>140</td>\n",
       "      <td>5</td>\n",
       "      <td>3.0</td>\n",
       "      <td>82</td>\n",
       "    </tr>\n",
       "    <tr>\n",
       "      <th>5</th>\n",
       "      <td>115</td>\n",
       "      <td>2</td>\n",
       "      <td>8.0</td>\n",
       "      <td>10</td>\n",
       "    </tr>\n",
       "  </tbody>\n",
       "</table>\n",
       "</div>"
      ],
      "text/plain": [
       "   speed  car_age  experience  risk\n",
       "0    200       15         5.0    85\n",
       "1     90       17        13.0    20\n",
       "2    165       12         4.0    93\n",
       "3    110       20         6.6    60\n",
       "4    140        5         3.0    82\n",
       "5    115        2         8.0    10"
      ]
     },
     "execution_count": 8,
     "metadata": {},
     "output_type": "execute_result"
    }
   ],
   "source": [
    "df"
   ]
  },
  {
   "cell_type": "code",
   "execution_count": 9,
   "id": "14e2ff13",
   "metadata": {},
   "outputs": [],
   "source": [
    "X = df.iloc[:, :-1]\n",
    "y = df.iloc[:, -1]"
   ]
  },
  {
   "cell_type": "code",
   "execution_count": 10,
   "id": "a1ad7601",
   "metadata": {},
   "outputs": [
    {
     "data": {
      "text/html": [
       "<div>\n",
       "<style scoped>\n",
       "    .dataframe tbody tr th:only-of-type {\n",
       "        vertical-align: middle;\n",
       "    }\n",
       "\n",
       "    .dataframe tbody tr th {\n",
       "        vertical-align: top;\n",
       "    }\n",
       "\n",
       "    .dataframe thead th {\n",
       "        text-align: right;\n",
       "    }\n",
       "</style>\n",
       "<table border=\"1\" class=\"dataframe\">\n",
       "  <thead>\n",
       "    <tr style=\"text-align: right;\">\n",
       "      <th></th>\n",
       "      <th>speed</th>\n",
       "      <th>car_age</th>\n",
       "      <th>experience</th>\n",
       "    </tr>\n",
       "  </thead>\n",
       "  <tbody>\n",
       "    <tr>\n",
       "      <th>0</th>\n",
       "      <td>200</td>\n",
       "      <td>15</td>\n",
       "      <td>5.0</td>\n",
       "    </tr>\n",
       "    <tr>\n",
       "      <th>1</th>\n",
       "      <td>90</td>\n",
       "      <td>17</td>\n",
       "      <td>13.0</td>\n",
       "    </tr>\n",
       "    <tr>\n",
       "      <th>2</th>\n",
       "      <td>165</td>\n",
       "      <td>12</td>\n",
       "      <td>4.0</td>\n",
       "    </tr>\n",
       "    <tr>\n",
       "      <th>3</th>\n",
       "      <td>110</td>\n",
       "      <td>20</td>\n",
       "      <td>6.6</td>\n",
       "    </tr>\n",
       "    <tr>\n",
       "      <th>4</th>\n",
       "      <td>140</td>\n",
       "      <td>5</td>\n",
       "      <td>3.0</td>\n",
       "    </tr>\n",
       "    <tr>\n",
       "      <th>5</th>\n",
       "      <td>115</td>\n",
       "      <td>2</td>\n",
       "      <td>8.0</td>\n",
       "    </tr>\n",
       "  </tbody>\n",
       "</table>\n",
       "</div>"
      ],
      "text/plain": [
       "   speed  car_age  experience\n",
       "0    200       15         5.0\n",
       "1     90       17        13.0\n",
       "2    165       12         4.0\n",
       "3    110       20         6.6\n",
       "4    140        5         3.0\n",
       "5    115        2         8.0"
      ]
     },
     "execution_count": 10,
     "metadata": {},
     "output_type": "execute_result"
    }
   ],
   "source": [
    "X"
   ]
  },
  {
   "cell_type": "code",
   "execution_count": 11,
   "id": "29791994",
   "metadata": {},
   "outputs": [
    {
     "data": {
      "text/plain": [
       "0    85\n",
       "1    20\n",
       "2    93\n",
       "3    60\n",
       "4    82\n",
       "5    10\n",
       "Name: risk, dtype: int64"
      ]
     },
     "execution_count": 11,
     "metadata": {},
     "output_type": "execute_result"
    }
   ],
   "source": [
    "y"
   ]
  },
  {
   "cell_type": "code",
   "execution_count": 12,
   "id": "0bf9fc4d",
   "metadata": {},
   "outputs": [
    {
     "data": {
      "text/plain": [
       "array([85, 20, 93, 60, 82, 10], dtype=int64)"
      ]
     },
     "execution_count": 12,
     "metadata": {},
     "output_type": "execute_result"
    }
   ],
   "source": [
    "y.values"
   ]
  },
  {
   "cell_type": "code",
   "execution_count": 13,
   "id": "bd8eb4ad",
   "metadata": {},
   "outputs": [],
   "source": [
    "scale = StandardScaler()\n",
    "\n",
    "X_scale = scale.fit_transform(X=X)"
   ]
  },
  {
   "cell_type": "code",
   "execution_count": 14,
   "id": "32831a5b",
   "metadata": {},
   "outputs": [
    {
     "data": {
      "text/plain": [
       "array([[ 1.71491599e+00,  4.93714715e-01, -4.85368749e-01],\n",
       "       [-1.26362231e+00,  8.05534536e-01,  1.94147499e+00],\n",
       "       [ 7.67199260e-01,  2.59849850e-02, -7.88724216e-01],\n",
       "       [-7.22069892e-01,  1.27326427e+00, -2.69433780e-16],\n",
       "       [ 9.02587365e-02, -1.06538439e+00, -1.09207968e+00],\n",
       "       [-5.86681787e-01, -1.53311412e+00,  4.24697655e-01]])"
      ]
     },
     "execution_count": 14,
     "metadata": {},
     "output_type": "execute_result"
    }
   ],
   "source": [
    "X_scale"
   ]
  },
  {
   "cell_type": "code",
   "execution_count": 15,
   "id": "57be3fa6",
   "metadata": {},
   "outputs": [],
   "source": [
    "model = KnnRegressor()\n",
    "\n",
    "model.fit(X_scale, y)"
   ]
  },
  {
   "cell_type": "code",
   "execution_count": 16,
   "id": "808b4a5b",
   "metadata": {},
   "outputs": [
    {
     "data": {
      "text/plain": [
       "array([[200,  15,   5]])"
      ]
     },
     "execution_count": 16,
     "metadata": {},
     "output_type": "execute_result"
    }
   ],
   "source": [
    "point = np.array([200,15,5]).reshape(1,3)\n",
    "point"
   ]
  },
  {
   "cell_type": "code",
   "execution_count": 17,
   "id": "ba9400c7",
   "metadata": {},
   "outputs": [
    {
     "name": "stderr",
     "output_type": "stream",
     "text": [
      "C:\\Users\\alami\\AppData\\Local\\Programs\\Python\\Python310\\lib\\site-packages\\sklearn\\base.py:420: UserWarning: X does not have valid feature names, but StandardScaler was fitted with feature names\n",
      "  warnings.warn(\n"
     ]
    }
   ],
   "source": [
    "result = scale.transform(point)"
   ]
  },
  {
   "cell_type": "code",
   "execution_count": 18,
   "id": "5d919337",
   "metadata": {},
   "outputs": [
    {
     "data": {
      "text/plain": [
       "85.0"
      ]
     },
     "execution_count": 18,
     "metadata": {},
     "output_type": "execute_result"
    }
   ],
   "source": [
    "model.predict(result)"
   ]
  },
  {
   "cell_type": "code",
   "execution_count": null,
   "id": "8d2be076",
   "metadata": {},
   "outputs": [],
   "source": []
  }
 ],
 "metadata": {
  "kernelspec": {
   "display_name": "Python 3 (ipykernel)",
   "language": "python",
   "name": "python3"
  },
  "language_info": {
   "codemirror_mode": {
    "name": "ipython",
    "version": 3
   },
   "file_extension": ".py",
   "mimetype": "text/x-python",
   "name": "python",
   "nbconvert_exporter": "python",
   "pygments_lexer": "ipython3",
   "version": "3.10.9"
  }
 },
 "nbformat": 4,
 "nbformat_minor": 5
}
